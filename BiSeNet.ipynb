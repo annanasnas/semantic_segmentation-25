{
  "nbformat": 4,
  "nbformat_minor": 0,
  "metadata": {
    "colab": {
      "provenance": [],
      "gpuType": "T4"
    },
    "kernelspec": {
      "name": "python3",
      "display_name": "Python 3"
    },
    "language_info": {
      "name": "python"
    },
    "accelerator": "GPU"
  },
  "cells": [
    {
      "cell_type": "markdown",
      "source": [
        "[![Open In Colab](https://colab.research.google.com/assets/colab-badge.svg)](https://colab.research.google.com/github/annanasnas/semantic_segmentation-25/blob/main/DeepLabV2.ipynb)"
      ],
      "metadata": {
        "id": "p-cEQRdrCgv9"
      }
    },
    {
      "cell_type": "code",
      "source": [
        "import random\n",
        "import numpy as np\n",
        "import torch\n",
        "\n",
        "def set_seed(seed):\n",
        "    random.seed(seed)\n",
        "    np.random.seed(seed)\n",
        "    torch.manual_seed(seed)\n",
        "    torch.cuda.manual_seed_all(seed)\n",
        "\n",
        "set_seed(42)"
      ],
      "metadata": {
        "id": "ON08hQzIyGx8"
      },
      "execution_count": null,
      "outputs": []
    },
    {
      "cell_type": "code",
      "source": [
        "REPO = \"https://github.com/annanasnas/semantic_segmentation-25.git\"\n",
        "!git clone $REPO\n",
        "%cd /content/semantic_segmentation-25\n",
        "!pip install -q -r requirements.txt pyyaml"
      ],
      "metadata": {
        "colab": {
          "base_uri": "https://localhost:8080/"
        },
        "id": "qDdLtFA6yrE9",
        "outputId": "648ff90c-c9a5-46a9-f834-f739dde1e108"
      },
      "execution_count": null,
      "outputs": [
        {
          "output_type": "stream",
          "name": "stdout",
          "text": [
            "Cloning into 'semantic_segmentation-25'...\n",
            "remote: Enumerating objects: 150, done.\u001b[K\n",
            "remote: Counting objects: 100% (150/150), done.\u001b[K\n",
            "remote: Compressing objects: 100% (102/102), done.\u001b[K\n",
            "remote: Total 150 (delta 63), reused 117 (delta 34), pack-reused 0 (from 0)\u001b[K\n",
            "Receiving objects: 100% (150/150), 304.32 KiB | 10.87 MiB/s, done.\n",
            "Resolving deltas: 100% (63/63), done.\n",
            "/content/semantic_segmentation-25\n",
            "\u001b[2K     \u001b[90m━━━━━━━━━━━━━━━━━━━━━━━━━━━━━━━━━━━━━━━━\u001b[0m \u001b[32m50.2/50.2 kB\u001b[0m \u001b[31m4.2 MB/s\u001b[0m eta \u001b[36m0:00:00\u001b[0m\n",
            "\u001b[?25h  Preparing metadata (setup.py) ... \u001b[?25l\u001b[?25hdone\n",
            "\u001b[2K     \u001b[90m━━━━━━━━━━━━━━━━━━━━━━━━━━━━━━━━━━━━━━━━\u001b[0m \u001b[32m42.2/42.2 kB\u001b[0m \u001b[31m3.7 MB/s\u001b[0m eta \u001b[36m0:00:00\u001b[0m\n",
            "\u001b[?25h  Preparing metadata (setup.py) ... \u001b[?25l\u001b[?25hdone\n",
            "  Building wheel for fvcore (setup.py) ... \u001b[?25l\u001b[?25hdone\n",
            "  Building wheel for iopath (setup.py) ... \u001b[?25l\u001b[?25hdone\n"
          ]
        }
      ]
    },
    {
      "cell_type": "markdown",
      "source": [
        "## Config"
      ],
      "metadata": {
        "id": "usM7DI7Ny4Bn"
      }
    },
    {
      "cell_type": "code",
      "source": [
        "import yaml\n",
        "\n",
        "with open(\"configs/bisenet.yaml\", \"r\", encoding=\"utf-8\") as f:\n",
        "    cfg = yaml.safe_load(f)\n",
        "\n",
        "!python scripts/download_data.py\n",
        "\n",
        "device = torch.device(\"cuda\" if torch.cuda.is_available() else \"cpu\")\n",
        "batch_size = cfg[\"train\"][\"batch_size\"]\n",
        "epochs = cfg[\"train\"][\"epochs\"]\n",
        "data_dir = cfg[\"data\"][\"root\"]\n",
        "learning_rate = cfg[\"train\"][\"lr\"]\n",
        "img_size = cfg[\"data\"][\"img_size\"]\n",
        "name = cfg[\"model\"][\"name\"]"
      ],
      "metadata": {
        "id": "Eg08IBbau_S3"
      },
      "execution_count": null,
      "outputs": []
    },
    {
      "cell_type": "markdown",
      "source": [
        "## DataLoaders"
      ],
      "metadata": {
        "id": "A-DW3ceDyygA"
      }
    },
    {
      "cell_type": "code",
      "source": [
        "from datasets.cityscapes import CityScapes\n",
        "from torch.utils.data import DataLoader\n",
        "from torchvision import transforms\n",
        "\n",
        "\n",
        "imagenet_mean = [0.485, 0.456, 0.406]\n",
        "imagenet_std = [0.229, 0.224, 0.225]\n",
        "\n",
        "image_transforms = transforms.Compose([\n",
        "    transforms.ToTensor(),\n",
        "    transforms.Normalize(mean=imagenet_mean, std=imagenet_std)\n",
        "])\n",
        "\n",
        "train_dataset = CityScapes(\n",
        "    root_dir=data_dir,\n",
        "    split=\"train\",\n",
        "    image_transform=image_transforms,\n",
        "    image_size=img_size\n",
        ")\n",
        "\n",
        "val_dataset = CityScapes(\n",
        "    root_dir=data_dir,\n",
        "    split=\"val\",\n",
        "    image_transform=image_transforms,\n",
        "    image_size=img_size\n",
        ")\n",
        "\n",
        "train_dataloader = DataLoader(train_dataset, batch_size=batch_size, shuffle=True, num_workers=2)\n",
        "val_dataloader = DataLoader(val_dataset, batch_size=batch_size, shuffle=False, num_workers=2)"
      ],
      "metadata": {
        "id": "HG4PBKBLtG6S"
      },
      "execution_count": null,
      "outputs": []
    },
    {
      "cell_type": "markdown",
      "source": [
        "## Training"
      ],
      "metadata": {
        "id": "G_0-Q0bZy1Wr"
      }
    },
    {
      "cell_type": "code",
      "source": [
        "from google.colab import drive\n",
        "drive.mount(\"/content/drive\")"
      ],
      "metadata": {
        "id": "qICzC2Ovoz80",
        "outputId": "e48892de-b7ae-4501-cd91-b714410f6ccb",
        "colab": {
          "base_uri": "https://localhost:8080/"
        }
      },
      "execution_count": null,
      "outputs": [
        {
          "output_type": "stream",
          "name": "stdout",
          "text": [
            "Mounted at /content/drive\n"
          ]
        }
      ]
    },
    {
      "cell_type": "code",
      "source": [
        "import torch.optim as optim\n",
        "import torch.nn as nn\n",
        "from models.bisenet.build_bisenet import BiSeNet\n",
        "from scripts.train import train_model\n",
        "from torch.amp import autocast, GradScaler\n",
        "from scripts.checkpoint import Checkpoint\n",
        "from pathlib import Path\n",
        "import pandas as pd\n",
        "\n",
        "model = BiSeNet(num_classes=19, context_path='resnet18')\n",
        "optimizer = optim.SGD(model.optim_parameters(lr=learning_rate), momentum=0.9, weight_decay=5e-4)\n",
        "criterion = nn.CrossEntropyLoss(ignore_index=255)\n",
        "scaler = GradScaler()\n",
        "\n",
        "model.to(device)\n",
        "\n",
        "ckpt_dir = Path(\"/content/drive/MyDrive/semantic segmentation/checkpoints\") / name\n",
        "log_csv  = ckpt_dir / \"log.csv\"\n",
        "ckpt_mgr = Checkpoint(ckpt_dir)\n",
        "ckpt = Checkpoint(ckpt_dir)\n",
        "\n",
        "best_path = ckpt_dir / \"best.pth\"\n",
        "if best_path.exists():\n",
        "    ckpt = torch.load(best_path, map_location=\"cpu\", weights_only=False)\n",
        "    model.load_state_dict(ckpt[\"model\"])\n",
        "    optimizer.load_state_dict(ckpt[\"optimizer\"])\n",
        "    scaler.load_state_dict(ckpt[\"scaler\"])\n",
        "    start_epoch = ckpt[\"epoch\"]\n",
        "    iteration = ckpt[\"iteration\"]\n",
        "    best_miou   = ckpt[\"best_miou\"]\n",
        "    df_prev = pd.read_csv(log_csv)\n",
        "    metrics = df_prev.to_dict(\"list\")\n",
        "else:\n",
        "    start_epoch = 0\n",
        "    best_miou   = 0\n",
        "    iteration = 0\n",
        "    metrics = {\"epoch\": [], \"train_loss\": [], \"val_loss\": [], \"val_miou\": []}\n",
        "\n",
        "max_iter = len(train_dataloader) * epochs\n",
        "train_model(model, train_dataloader, val_dataloader,\n",
        "            device, epochs, autocast, scaler,\n",
        "            optimizer, criterion, learning_rate,\n",
        "            iteration, max_iter,\n",
        "            ckpt_mgr, start_epoch, best_miou,\n",
        "            log_csv, metrics)"
      ],
      "metadata": {
        "id": "meEY2Vcjvq1V"
      },
      "execution_count": null,
      "outputs": []
    },
    {
      "cell_type": "markdown",
      "source": [
        "# Results"
      ],
      "metadata": {
        "id": "90kG_qFLe3Dh"
      }
    },
    {
      "cell_type": "code",
      "source": [
        "from scripts.utils import create_final_table, evaluate_miou\n",
        "import warnings, logging\n",
        "\n",
        "logging.getLogger(\"fvcore.nn.jit_analysis\").setLevel(logging.ERROR)\n",
        "\n",
        "model = BiSeNet(num_classes=19, context_path='resnet18')\n",
        "df = create_final_table(model, name, device, (img_size, img_size*2), epochs)\n",
        "\n",
        "best_model = torch.load(best_path, map_location=device)\n",
        "model.load_state_dict(best_model[\"model\"])\n",
        "df[\"mIoU (%)\"] = evaluate_miou(model, val_dataloader, device) * 100\n",
        "print(df.to_markdown(index=False))"
      ],
      "metadata": {
        "colab": {
          "base_uri": "https://localhost:8080/"
        },
        "id": "b9wTERUkcA-n",
        "outputId": "8ed63d16-88d4-4fcf-f911-3b81b5c14439"
      },
      "execution_count": null,
      "outputs": [
        {
          "output_type": "stream",
          "name": "stdout",
          "text": [
            "| Model               | Latency                                                                  | FLOPs   | Params   |   mIoU (%) |\n",
            "|:--------------------|:-------------------------------------------------------------------------|:--------|:---------|-----------:|\n",
            "| bisenet - 50 epochs | Mean latency: 0.02 +/- 0.01, Mean FPS: 68.38 +/- 13.14 frames per second | 25.8 G  | 12.6 M   |    54.3385 |\n"
          ]
        }
      ]
    },
    {
      "cell_type": "code",
      "source": [
        "from scripts.utils import plot_log\n",
        "\n",
        "plot_log(log_csv)"
      ],
      "metadata": {
        "id": "VbcbyFeGlTSS"
      },
      "execution_count": null,
      "outputs": []
    }
  ]
}